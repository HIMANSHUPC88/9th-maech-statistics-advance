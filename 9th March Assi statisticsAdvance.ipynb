{
 "cells": [
  {
   "cell_type": "markdown",
   "id": "8913b73d-c049-4c6c-840e-6ef1b84bbc9a",
   "metadata": {},
   "source": [
    "# Q1: What are the Probability Mass Function (PMF) and Probability Density Function (PDF)? Explain with an example."
   ]
  },
  {
   "cell_type": "code",
   "execution_count": null,
   "id": "6f33fd1b-cee7-42e2-8734-d9fda7817b2b",
   "metadata": {},
   "outputs": [],
   "source": [
    "Probability Mass Function (PMF) \n",
    "\n",
    "    The PMF is a function that gives the probability of each possible outcome of a discrete random variable. \n",
    "    The PMF of a discrete random variable X is dneoted by P(X). for each possible value x of X, P(X = x) gives the probability that takes on the value x.\n",
    "\n",
    "Example :\n",
    "    Consider the following experiment: A coin is flipped three times.Let X be the number of heads obtained in the three flips.X is a discrete random variable with four possible outcomes\n",
    "    : - 0,1,2 and 3 heads.\n",
    "    \n",
    "Probability Mass Function(PMF)\n",
    "   \n",
    "      A PDF is a function that gives the ptobability of a continuous random variable falling within a centain range of values.\n",
    "     \n",
    "The PDF of a continuous random variable x is denoted by f(x). For any interval [a,b], f(x) dx gives the probability that x falls within the interval \n",
    "[a,b].\n",
    "     \n",
    "        \n",
    "        \n",
    "\n",
    "        \n",
    "        \n",
    "        \n",
    "        \n",
    "        \n",
    "Discrete random variable =  A discrete random variable is a variable that can only take on a finite number of values. for example , The number of heads in a coin toss ot the number of students \n",
    "    who pass an exam are discrete random variables.\n",
    "\n",
    "Continuous random vatiable =  A Continuous random variable is a variable that can take on any value within a certain range. \n",
    "    for example, the Height of a person or the weight of an apple are continuous random variables."
   ]
  },
  {
   "cell_type": "markdown",
   "id": "87478b87-4323-44ee-b45e-597833c81489",
   "metadata": {},
   "source": [
    "# Q2: What is Cumulative Density Function (CDF)? Explain with an example. Why CDF is used ?"
   ]
  },
  {
   "cell_type": "code",
   "execution_count": null,
   "id": "cf60d836-4b77-4476-8b0c-ffda918aa932",
   "metadata": {},
   "outputs": [],
   "source": [
    "Cumulative density function (CDF) : The Cumulative function discribes the probability that a random variable is less then or equals to the given value.\n",
    "it is denoted by f(x) = P(X<=x)\n",
    "For Example :\n",
    "    The Height of a person which is randomly selected. the probability of that person's height will be shorter than x is F(x). if f(180cm) = 0.8 there is 80% chance of \n",
    "    that random person's height is less then 180cm.\n",
    "    \n",
    "    EK random person ki Height. us random person ki height x se unchi hone ki probability f(x) hai. (Agar f(180cm) = 0.8 hai to yahan 80 % chance hai ki us person ki height 180cm se \n",
    "    kam hogi. )   "
   ]
  },
  {
   "cell_type": "markdown",
   "id": "c20f03e4-78c3-4021-a649-286f74364321",
   "metadata": {},
   "source": [
    "# Q3: What are some examples of situations where the normal distribution might be used as a model?\n",
    "# Explain how the parameters of the normal distribution relate to the shape of the distribution."
   ]
  },
  {
   "cell_type": "code",
   "execution_count": null,
   "id": "a7daf8fc-3914-4a42-8d80-732624ec82b6",
   "metadata": {},
   "outputs": [],
   "source": [
    "Human trails : - Heigt , Weigt , show size etc.\n",
    "Nautre phinomina :-Temperacture , rainfall , wind speed etc.\n",
    "Economic Data : - Stocks price ,intrest rate , inflation.\n",
    "Manufacturing data :- Product Height , weights etc. \n",
    "these are all the examples of situations where the normal distribution might be used as a model.\n",
    "The parameters of the mormal distribution Mean and standerd deviation relate to the shape of the distribution in the following way :-\n",
    "Mean :- The Mean is the centeral value of the distribution.it is those value jiske paas or values collect(ekttrit) hote hai. \n",
    "Standard Deviation :- The Standard Deviation is a measure of spread of the distribution. A Higher standard deviation indicates the more spread out of the distribution.\n",
    "                      and the lower standard deviation indicates the more concentrated distribution. (Higher Standard deviation to spread jyada of distribution) \n",
    "                      (lower standard deviation to kam spread distribution)"
   ]
  },
  {
   "cell_type": "markdown",
   "id": "53f79743-0354-4fd8-bd3e-062b7d5809fe",
   "metadata": {},
   "source": [
    "# Q4: Explain the importance of Normal Distribution. Give a few real-life examples of Normal Distribution. "
   ]
  },
  {
   "cell_type": "code",
   "execution_count": null,
   "id": "d5266026-e2eb-41cd-88dd-c04c3413de6a",
   "metadata": {
    "tags": []
   },
   "outputs": [],
   "source": [
    "In statistics, Normal Distribution is important because Normal Distribution nature ke phinomina ko ekdam perfectly discribe krta hai. Iska upyog kayi perdictions \n",
    "me kiya jata hai -\n",
    "\n",
    "Finding Probability and Ratios.\n",
    "Solving test of Hypotheses.\n",
    "\n",
    "Normal distribution is important because of the central limit theoram. CLT kahati hai ki pratyek experiment jiski value 30 se adhik hoti hai vo Normal distribution \n",
    "ki tarah vyavhar dikhata hai.\n",
    "\n",
    "Real life examples :\n",
    "    \n",
    "Blood Pressure = Blood pressure follows a Normal distribution. \n",
    "\n",
    "IQ scores = IQ scores follows a Normal Distribution.\n",
    "\n",
    "Birth weight = Birth weight of newborn babie's weight which is a mean of 7.5 pound follows Normal distribution. \n",
    "\n",
    "A Normal distribution is symmetrical, which means that most of the data lies arround the Average. "
   ]
  },
  {
   "cell_type": "markdown",
   "id": "349bf0ae-c351-423d-80fc-fdf18e3cb9b4",
   "metadata": {},
   "source": [
    "# Q5: What is Bernaulli Distribution? Give an Example. What is the difference between Bernoulli Distribution and Binomial Distribution? "
   ]
  },
  {
   "cell_type": "code",
   "execution_count": null,
   "id": "a77603e5-3fbd-490b-b7ec-43e70a7ee020",
   "metadata": {},
   "outputs": [],
   "source": [
    "Bernauli Distribution is the Discrete random variable of a random variable which takes the value 1 with probability P and the value 0 with probability Q - 1-p.\n",
    "  The Bernauli distribution can be used to model a variety of real-world phenomena, such as :\n",
    "Example :\n",
    "    The outcome of a coin toss (Heads = 1 , tails = 0)\n",
    "Difference : \n",
    "  1. The Bernauli Distribution models a single trail while the Binomial Distribution models multiple trails.\n",
    "  2. The Bernauli Distribution models the  probability of a single events Happening. while the Binomial Distribution models the probability of certain numners of event\n",
    "    Happeninig at the certain number of trails.\n",
    "    (Number of outcumes in the Bernauli distribution is 2 (0 or 1)) and (Number of outcomes in the Binomial distribution is  n + 1(0,1,2,....,n))"
   ]
  },
  {
   "cell_type": "markdown",
   "id": "6cb73bde-bf10-43f2-8790-8f82aee76413",
   "metadata": {},
   "source": [
    "#  Q6. Consider a dataset with a mean of 50 and a standard deviation of 10. If we assume that the dataset is normally distributed, what is the probability that a randomly selected observation will be greater than 60? Use the appropriate formula and show your calculations."
   ]
  },
  {
   "cell_type": "code",
   "execution_count": null,
   "id": "cdef1fb7-a20c-42cb-bdd4-f3107f1bfe9f",
   "metadata": {},
   "outputs": [],
   "source": [
    "Mean = 50 \n",
    "Std = 10 \n",
    "Dataset is nomally distributed \n",
    "what is The probability that a randomly selected observation will be greater than 60 ?\n",
    "\n",
    "formula: \n",
    "    z =  xi - mean / standard deviation\n",
    "    z =  1\n",
    "\n",
    "    therefore the probability that a randomly selected observation from a normally distributed dataset with a mean of 50 \n",
    "and a standard deviation of 10 will be less than or equal to 60 is 0.8413."
   ]
  },
  {
   "cell_type": "markdown",
   "id": "da8fad68-2246-454b-8eb3-e605f680ea60",
   "metadata": {},
   "source": [
    "# Q7: Explain uniform Distribution with an example."
   ]
  },
  {
   "cell_type": "code",
   "execution_count": null,
   "id": "2bcff5e0-f77b-44a0-9d04-7fb94a24ca10",
   "metadata": {},
   "outputs": [],
   "source": [
    "The Uniform Distribution is a probability distribution in which all outcomes are equally likely. this means that each outcome has same probability of occurring.\n",
    "(Uniform distribution ek probability distribution hai jiske sabhi outcomes likely same hote hai.)\n",
    "for example :\n",
    "    There is a common example of Uniform distribution that is flipping a fair coin. there are only two outcomes (Heads and tails) are both have same probability of occurring\n",
    "    which is 50 - 50 %."
   ]
  },
  {
   "cell_type": "markdown",
   "id": "293a4170-0e19-4ed5-a800-16a1772eb3ce",
   "metadata": {},
   "source": [
    "# Q8: What is the z score? State the importance of the z score."
   ]
  },
  {
   "cell_type": "code",
   "execution_count": null,
   "id": "c56dcb7e-2c55-49fd-8444-e044906a3be2",
   "metadata": {},
   "outputs": [],
   "source": [
    "ans: Z score is a statical measurement of How many standard deviation a specific point is away\n",
    "     from the mean of population Data. it is calculated by subtracting the specific data point \n",
    "     by mean and then devided by the standard daviation.\n",
    "\n",
    "for example If 170 cm is the mean of our distribution and 10 cm is the standard deviation and \n",
    "a person is 180 cm tall would have 1 z score that means those person's Height is 1 \n",
    "standard deviation above from the mean.\n",
    "\n",
    "Z score is important because it allows us to compare data points in different Distribuiton.\n",
    "for example \n",
    "We can compare an Adult male's Height to an Adult female's Height using z-score \n",
    "even though the two different Distributions have different mean and standard deviation.\n",
    "\n",
    "Here's an example of that How z-score used in real world - \n",
    "An Educational Researcher might use z - score for compare the performence of the \n",
    "students on different standerdized test."
   ]
  },
  {
   "cell_type": "markdown",
   "id": "06dec8ee-a200-451d-9a3f-566cbc625f9c",
   "metadata": {},
   "source": [
    "# Q9: What is Central Limit Theorem? State the significance of the Central Limit Theorem "
   ]
  },
  {
   "cell_type": "code",
   "execution_count": null,
   "id": "4169fb7f-317a-4881-abfd-8f2f74b56010",
   "metadata": {},
   "outputs": [],
   "source": [
    "The Central Limit Theorem says that the sampling distribution of the mean will always be normal distributed , as long as the sample size is large enough.\n",
    "Regardless of whether the population has a normal, poisson,binomal or any type of distributionm the sampling distribution of the mean will be normal.\n",
    " use the CLT to calculate confidence intervals for population means and to perform hypothesis tests about population mean.\n",
    "    "
   ]
  },
  {
   "cell_type": "markdown",
   "id": "b69c1375-993a-40cc-a3e4-a73860f7e93e",
   "metadata": {},
   "source": [
    "# Q10: State the assumptions of the Central Limit Theorem"
   ]
  },
  {
   "cell_type": "code",
   "execution_count": null,
   "id": "4455d5e2-fedd-4a93-8832-7327d7e0e882",
   "metadata": {},
   "outputs": [],
   "source": [
    "The Central Limit Theorem (CLT) is a powerful statistical concept that allows us to make\n",
    "certain assumptions about a population based on a sample.However, there are some important assumptions that must \n",
    "be met for CLT to apply . these assumption are :\n",
    "    \n",
    "1. Independence: The sample values must be independent of each other. This means that the value of one sample should\n",
    "not agffect the value of another sample.\n",
    "\n",
    "2.Sample Size: The sample size should be sufficiently large. The genral rule of thumb is that the sample size.\n",
    "should be greaterthaan or equal to 30 . HOwere , in some cases, a smaller sample sixe maybe sufficient if the \n",
    "underlying distribution of the population is normal or close to normal.\n",
    "\n",
    "3.Identically distributed: The sample should be drawn from a population with a fixed mean and variance.\n",
    "This means that the samples are drawn from the same population and have the same distribution.\n",
    "\n",
    "4.No outliers: The presence of outliers in the sample can affect the validity of the CLT. Therefore,\n",
    "it is important to check for outliers before applying the CLT.\n"
   ]
  }
 ],
 "metadata": {
  "kernelspec": {
   "display_name": "Python 3 (ipykernel)",
   "language": "python",
   "name": "python3"
  },
  "language_info": {
   "codemirror_mode": {
    "name": "ipython",
    "version": 3
   },
   "file_extension": ".py",
   "mimetype": "text/x-python",
   "name": "python",
   "nbconvert_exporter": "python",
   "pygments_lexer": "ipython3",
   "version": "3.10.8"
  }
 },
 "nbformat": 4,
 "nbformat_minor": 5
}
